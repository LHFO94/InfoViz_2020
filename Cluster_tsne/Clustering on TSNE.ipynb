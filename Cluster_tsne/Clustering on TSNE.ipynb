{
 "cells": [
  {
   "cell_type": "code",
   "execution_count": 14,
   "metadata": {},
   "outputs": [],
   "source": [
    "from sklearn.cluster import KMeans\n",
    "import pandas as pd\n",
    "import hdbscan\n",
    "import json"
   ]
  },
  {
   "cell_type": "code",
   "execution_count": null,
   "metadata": {},
   "outputs": [],
   "source": []
  },
  {
   "cell_type": "code",
   "execution_count": 15,
   "metadata": {},
   "outputs": [],
   "source": [
    "tsne_result=pd.read_csv('results_TSNE_2d.csv')\n",
    "tsne_2d=tsne_result.drop(['img','Unnamed: 0'], axis=1)\n",
    "plotly_text=tsne_result['img']\n"
   ]
  },
  {
   "cell_type": "code",
   "execution_count": 16,
   "metadata": {},
   "outputs": [
    {
     "data": {
      "text/plain": [
       "['CH-1995-1',\n",
       " 'CH-1995-3',\n",
       " 'E-1995-4',\n",
       " 'E-1995-7',\n",
       " 'E-1995-19',\n",
       " 'E-1995-23',\n",
       " 'E-1995-34',\n",
       " 'I-1995-2',\n",
       " 'I-1995-12',\n",
       " 'I-1995-19',\n",
       " 'E-1996-7',\n",
       " 'E-1996-9',\n",
       " 'Blue Poster_1997',\n",
       " 'Connection_1997',\n",
       " 'Decor_1997',\n",
       " \"Doll's House_1997\",\n",
       " 'Eve_1997',\n",
       " 'Glass_1997',\n",
       " 'Green Wall_1997',\n",
       " 'NL-1997-1_1997',\n",
       " 'Pit_1997',\n",
       " 'Soil_1997',\n",
       " 'Wood_1997',\n",
       " 'Contour_1997',\n",
       " '13 Aeroplanes_1998',\n",
       " 'A Moon_1998(missing)',\n",
       " 'Bay Area_1998',\n",
       " 'Constellation_1998',\n",
       " 'Double Mist_1998',\n",
       " 'H2O_1998',\n",
       " 'High Pool_1998',\n",
       " 'Landscape_1998',\n",
       " 'Long Beach_1998',\n",
       " 'Meander_1998',\n",
       " 'Neon_1998',\n",
       " 'Suburb_1998',\n",
       " 'Transit_1998',\n",
       " 'Water_1998',\n",
       " 'Apartment_1999',\n",
       " '3 Piano_1999',\n",
       " 'Avenue_1999',\n",
       " 'Block_1999',\n",
       " 'Circuit_1999',\n",
       " 'Corridor_1999',\n",
       " 'Interval_1999',\n",
       " 'Set_1999',\n",
       " 'Transfer_1999',\n",
       " 'Descent_2000',\n",
       " 'Balance_2000',\n",
       " 'Complex_2000',\n",
       " 'Court_2000',\n",
       " 'Facade_2000',\n",
       " 'Flow_2000',\n",
       " 'Home_2000',\n",
       " 'Neighbourhood_2000',\n",
       " 'Spot_2000',\n",
       " 'Capital_2000',\n",
       " 'Parallel_2000',\n",
       " 'Exit_2001',\n",
       " 'Ground_2001',\n",
       " 'Passing_2001',\n",
       " 'Setting_2001',\n",
       " 'Still_2001',\n",
       " 'Building_2001',\n",
       " 'Expo_2001',\n",
       " 'Flux_2001',\n",
       " 'Intersection_2001',\n",
       " 'Two Sixty Four_2001',\n",
       " 'Domicile_2002',\n",
       " 'Park _2002',\n",
       " 'Gate_2002',\n",
       " 'Mezzanine_2002',\n",
       " 'Quarter_2002',\n",
       " 'Terrace_2002',\n",
       " 'Tube_2002',\n",
       " 'Intermezzo_2003',\n",
       " 'Info_2003',\n",
       " 'Tour_2003',\n",
       " 'Midi_2003',\n",
       " 'Lille_2003',\n",
       " 'Metro_2003',\n",
       " 'Etage_2003',\n",
       " 'Platform_2003',\n",
       " 'Habitat_2003',\n",
       " 'Annex_2003',\n",
       " 'Column_2003',\n",
       " 'Crop_2003',\n",
       " 'Focus_2003',\n",
       " 'Grid_2003',\n",
       " 'Lobby_2003',\n",
       " 'Model_2003',\n",
       " 'Plateau_2003',\n",
       " 'Prospect_2004',\n",
       " 'Nexus_2004',\n",
       " 'Level_2004',\n",
       " 'Gazette_2004',\n",
       " 'Plan_2004',\n",
       " 'Frame_2004',\n",
       " 'Section_2004',\n",
       " 'Facet_2004',\n",
       " 'Class_2004',\n",
       " 'Panorama_2004',\n",
       " 'Sequence_2004',\n",
       " 'Palace_2004',\n",
       " 'Link_2004',\n",
       " 'Gallery_2004',\n",
       " 'Front_2004',\n",
       " 'Canvas_2004',\n",
       " 'Match_2004',\n",
       " 'Scene_2004',\n",
       " 'Module_2004',\n",
       " 'Zone_2004',\n",
       " 'Loop_2005',\n",
       " 'Enterprise_2005',\n",
       " 'Display_2005',\n",
       " 'Enclave_2005',\n",
       " 'Domain_2005',\n",
       " 'Room_2005',\n",
       " 'Core_2005',\n",
       " 'Palette_2005',\n",
       " 'Queue_2005',\n",
       " 'Unit_2005',\n",
       " 'Reservoir_2005',\n",
       " 'Image_2005',\n",
       " 'Regime_2005',\n",
       " 'Border_2005',\n",
       " 'Storey_2005',\n",
       " 'Circle_2006',\n",
       " 'Memo_2006',\n",
       " 'Contact_2006',\n",
       " 'Collage_2006',\n",
       " 'Filter_2006',\n",
       " 'Corner_2006',\n",
       " 'Bloom_2006',\n",
       " 'Fringe_2006',\n",
       " 'Array_2006',\n",
       " 'Cycle_2006',\n",
       " 'Interlude_2006',\n",
       " 'Studio_2006',\n",
       " 'Arcade_2006',\n",
       " 'Mirage_2006',\n",
       " 'Sector_2006',\n",
       " 'Entrance_2006',\n",
       " 'Square_2006',\n",
       " 'Screen_2006',\n",
       " 'Network_2006',\n",
       " 'Presence_2006',\n",
       " 'Exposure_2007',\n",
       " 'Base_2007',\n",
       " 'Center_2007',\n",
       " 'Access_2007',\n",
       " 'Aperture_2007',\n",
       " 'Detail_2007',\n",
       " 'Dynasty_2007',\n",
       " 'Living_2007',\n",
       " 'Passage_2007',\n",
       " 'Bouquet_2008',\n",
       " 'Forum_2008',\n",
       " 'House_2008',\n",
       " 'Territory_2008',\n",
       " 'Labyrinth_2008',\n",
       " 'Cluster_2008',\n",
       " 'Atmosphere_2008',\n",
       " 'Volume_2008',\n",
       " 'Support_2008',\n",
       " 'Junction_2008',\n",
       " 'Spectrum_2008',\n",
       " 'Replica_2008',\n",
       " 'Control_2008',\n",
       " 'Nature_2008',\n",
       " 'Project_2008',\n",
       " 'Property_2008',\n",
       " 'Summit_2008',\n",
       " 'Transition_2008',\n",
       " 'Site_2008',\n",
       " 'Matrix_2008',\n",
       " 'Monitor_2008(missing)',\n",
       " 'Flood_2009',\n",
       " 'Picture a Mirror_2009',\n",
       " 'Matter_2009',\n",
       " 'Play_2009',\n",
       " 'Race_2009',\n",
       " 'Condominium_2010',\n",
       " 'The English House_2010',\n",
       " 'Green Zone_2010',\n",
       " 'SuperVision_2010',\n",
       " 'China Halo_2010',\n",
       " 'Crossover_2010',\n",
       " 'Premises (in Red)_2010',\n",
       " 'One Brilliant Complex_2011',\n",
       " 'The Approach_2011',\n",
       " 'Double Standard_2012',\n",
       " 'Plot Ratio_2012',\n",
       " 'Synchronicity_2012',\n",
       " 'Costa Blanca_2012',\n",
       " 'Flatland_2012',\n",
       " 'Hotel Opportunity_2012',\n",
       " 'Mission Interlude_2012',\n",
       " 'Multi Story Building_2012',\n",
       " 'Timeport_2012',\n",
       " 'Hollywood_2013',\n",
       " 'Megalopolis_2013',\n",
       " 'Paramount_2013',\n",
       " 'Thriller_2013',\n",
       " 'Capital no Capital_2013',\n",
       " 'California_2013',\n",
       " 'Levante_2013',\n",
       " 'Propitious Grounds_2013',\n",
       " 'The Strip_2013',\n",
       " 'Treasure Gathering Square_2013',\n",
       " 'The Crossroads_2014',\n",
       " 'The Deal_2015',\n",
       " 'Panacea_2015',\n",
       " 'Wonderland_2015',\n",
       " 'Momentum_2016',\n",
       " 'The Next Level_2016',\n",
       " 'UN_2016',\n",
       " 'Entracte_2016',\n",
       " 'Performance_2017',\n",
       " 'The Valley Continuum_2018']"
      ]
     },
     "execution_count": 16,
     "metadata": {},
     "output_type": "execute_result"
    }
   ],
   "source": [
    "\n",
    "listx=[]\n",
    "for i in tsne_2d['x']:\n",
    "    listx.append(i)\n",
    " \n",
    "listy=[]\n",
    "for i in tsne_2d['y']:\n",
    "    listy.append(i)\n",
    "    \n",
    "img_name =[]\n",
    "for i in plotly_text:\n",
    "    img_name.append(i)\n",
    "img_name"
   ]
  },
  {
   "cell_type": "code",
   "execution_count": 17,
   "metadata": {},
   "outputs": [
    {
     "data": {
      "text/plain": [
       "array([-1,  5,  4,  4,  4,  4,  4,  4,  4,  4,  4,  4,  4,  4,  4,  4,  4,\n",
       "        4,  4,  4,  4,  4,  4,  4,  3,  3,  3,  3,  3,  3,  3,  3,  3,  3,\n",
       "        3,  3,  3,  3,  4,  4,  4,  4,  4,  4,  4,  4,  4,  5,  5,  5,  5,\n",
       "        5,  5,  5,  5,  5,  2,  5,  5, -1, -1, -1, -1,  2,  5,  5,  5, -1,\n",
       "       -1,  5,  5, -1,  5,  5,  5, -1,  5,  5,  5,  5,  5,  5,  2,  0,  5,\n",
       "        5, -1,  5,  5, -1, -1,  2, -1, -1,  5,  5,  5,  5,  5, -1,  5,  2,\n",
       "        5, -1,  5,  2,  5,  2, -1, -1,  5,  5,  5,  2,  5, -1,  2,  5,  5,\n",
       "        5, -1,  5,  1,  5,  2,  5, -1,  0,  0,  0,  5,  5,  5,  1, -1,  5,\n",
       "        5,  2,  2,  2,  2,  0,  5,  5,  0,  5,  5,  2,  0,  5, -1,  5,  1,\n",
       "       -1, -1, -1,  1, -1,  4,  1,  5,  5,  5, -1,  5, -1,  5, -1,  1, -1,\n",
       "        2,  2,  1,  0,  2,  5, -1,  2,  5,  5, -1, -1,  2,  1, -1,  5, -1,\n",
       "       -1,  2,  2,  5, -1, -1,  5, -1, -1,  2,  2,  5,  1,  1,  5, -1, -1,\n",
       "        2, -1, -1, -1,  5, -1, -1,  5, -1,  5,  1, -1,  1, -1,  5,  5],\n",
       "      dtype=int64)"
      ]
     },
     "execution_count": 17,
     "metadata": {},
     "output_type": "execute_result"
    }
   ],
   "source": [
    "#hdbscan with no pre-specified no. of clusters\n",
    "def hdbscan_cluster (dataframe):\n",
    "    clusterer = hdbscan.HDBSCAN()\n",
    "    clusterer.fit(dataframe)\n",
    "    return clusterer.labels_\n",
    "\n",
    "hdbscan_cluster(tsne_2d)"
   ]
  },
  {
   "cell_type": "code",
   "execution_count": 18,
   "metadata": {},
   "outputs": [
    {
     "data": {
      "text/plain": [
       "array([1, 5, 1, 1, 1, 1, 1, 1, 1, 1, 1, 1, 1, 1, 1, 1, 1, 1, 1, 1, 1, 1,\n",
       "       1, 1, 3, 3, 3, 3, 3, 3, 3, 3, 3, 3, 3, 3, 3, 3, 1, 1, 1, 1, 1, 1,\n",
       "       1, 1, 1, 6, 6, 1, 4, 6, 5, 1, 0, 1, 2, 5, 6, 1, 1, 1, 1, 2, 0, 6,\n",
       "       6, 5, 1, 0, 0, 0, 0, 5, 0, 3, 0, 5, 0, 0, 0, 0, 2, 3, 4, 6, 1, 6,\n",
       "       5, 3, 0, 2, 4, 4, 4, 6, 0, 6, 6, 4, 6, 2, 5, 0, 7, 2, 5, 2, 5, 1,\n",
       "       6, 6, 0, 2, 7, 4, 2, 4, 4, 4, 0, 6, 4, 6, 0, 4, 4, 3, 3, 3, 6, 6,\n",
       "       6, 4, 3, 6, 7, 2, 0, 2, 2, 3, 6, 0, 3, 1, 1, 0, 3, 6, 5, 6, 4, 2,\n",
       "       5, 1, 4, 4, 1, 4, 6, 5, 5, 1, 6, 5, 4, 6, 4, 6, 2, 2, 4, 3, 2, 7,\n",
       "       7, 2, 6, 7, 4, 5, 2, 4, 4, 5, 7, 2, 2, 0, 7, 5, 2, 7, 5, 4, 2, 2,\n",
       "       5, 4, 4, 5, 4, 4, 0, 4, 5, 4, 7, 2, 7, 7, 2, 5, 4, 5, 4, 7, 0, 7])"
      ]
     },
     "execution_count": 18,
     "metadata": {},
     "output_type": "execute_result"
    }
   ],
   "source": [
    "#Kmeans on TSNE RESULTS\n",
    "def k_means(df, n_cluster):\n",
    "    km_df=df.to_numpy()\n",
    "    Kmeans_result=KMeans(n_clusters=n_cluster, random_state = 0).fit(km_df)\n",
    "    return Kmeans_result.labels_\n",
    "k_means(tsne_2d, 8)"
   ]
  },
  {
   "cell_type": "code",
   "execution_count": 19,
   "metadata": {},
   "outputs": [
    {
     "data": {
      "text/plain": [
       "'[1, 5, 1, 1, 1, 1, 1, 1, 1, 1, 1, 1, 1, 1, 1, 1, 1, 1, 1, 1, 1, 1, 1, 1, 3, 3, 3, 3, 3, 3, 3, 3, 3, 3, 3, 3, 3, 3, 1, 1, 1, 1, 1, 1, 1, 1, 1, 6, 6, 1, 4, 6, 5, 1, 0, 1, 2, 5, 6, 1, 1, 1, 1, 2, 0, 6, 6, 5, 1, 0, 0, 0, 0, 5, 0, 3, 0, 5, 0, 0, 0, 0, 2, 3, 4, 6, 1, 6, 5, 3, 0, 2, 4, 4, 4, 6, 0, 6, 6, 4, 6, 2, 5, 0, 7, 2, 5, 2, 5, 1, 6, 6, 0, 2, 7, 4, 2, 4, 4, 4, 0, 6, 4, 6, 0, 4, 4, 3, 3, 3, 6, 6, 6, 4, 3, 6, 7, 2, 0, 2, 2, 3, 6, 0, 3, 1, 1, 0, 3, 6, 5, 6, 4, 2, 5, 1, 4, 4, 1, 4, 6, 5, 5, 1, 6, 5, 4, 6, 4, 6, 2, 2, 4, 3, 2, 7, 7, 2, 6, 7, 4, 5, 2, 4, 4, 5, 7, 2, 2, 0, 7, 5, 2, 7, 5, 4, 2, 2, 5, 4, 4, 5, 4, 4, 0, 4, 5, 4, 7, 2, 7, 7, 2, 5, 4, 5, 4, 7, 0, 7]'"
      ]
     },
     "execution_count": 19,
     "metadata": {},
     "output_type": "execute_result"
    }
   ],
   "source": [
    "#Convert to Json string\n",
    "K_means_js=k_means(tsne_2d, 8).tolist()\n",
    "my_json_string = json.dumps(K_means_js)\n",
    "my_json_string"
   ]
  },
  {
   "cell_type": "code",
   "execution_count": 20,
   "metadata": {},
   "outputs": [],
   "source": [
    "import json\n",
    "\n",
    "# graph = {\n",
    "#     'nodes': [ {'id': 'Class1'}, {'id': 'Class2'} ],\n",
    "#     'links': [\n",
    "#         { 'id': 1, 'source': 'Class1', 'target': 'prereq' },\n",
    "#         { 'id': 2, 'source': 'Class2', 'target': 'prereq' }\n",
    "#     ]\n",
    "# }\n",
    "\n",
    "with open('K_means_cluster.js', 'w') as out_file:\n",
    "  out_file.write('var K_means_cluster_value = %s;' % json.dumps(K_means_js))"
   ]
  },
  {
   "cell_type": "code",
   "execution_count": 21,
   "metadata": {},
   "outputs": [
    {
     "data": {
      "text/plain": [
       "'[1, 5, 1, 1, 1, 1, 1, 1, 1, 1, 1, 1, 1, 1, 1, 1, 1, 1, 1, 1, 1, 1, 1, 1, 3, 3, 3, 3, 3, 3, 3, 3, 3, 3, 3, 3, 3, 3, 1, 1, 1, 1, 1, 1, 1, 1, 1, 6, 6, 1, 4, 6, 5, 1, 0, 1, 2, 5, 6, 1, 1, 1, 1, 2, 0, 6, 6, 5, 1, 0, 0, 0, 0, 5, 0, 3, 0, 5, 0, 0, 0, 0, 2, 3, 4, 6, 1, 6, 5, 3, 0, 2, 4, 4, 4, 6, 0, 6, 6, 4, 6, 2, 5, 0, 7, 2, 5, 2, 5, 1, 6, 6, 0, 2, 7, 4, 2, 4, 4, 4, 0, 6, 4, 6, 0, 4, 4, 3, 3, 3, 6, 6, 6, 4, 3, 6, 7, 2, 0, 2, 2, 3, 6, 0, 3, 1, 1, 0, 3, 6, 5, 6, 4, 2, 5, 1, 4, 4, 1, 4, 6, 5, 5, 1, 6, 5, 4, 6, 4, 6, 2, 2, 4, 3, 2, 7, 7, 2, 6, 7, 4, 5, 2, 4, 4, 5, 7, 2, 2, 0, 7, 5, 2, 7, 5, 4, 2, 2, 5, 4, 4, 5, 4, 4, 0, 4, 5, 4, 7, 2, 7, 7, 2, 5, 4, 5, 4, 7, 0, 7]'"
      ]
     },
     "execution_count": 21,
     "metadata": {},
     "output_type": "execute_result"
    }
   ],
   "source": [
    "import json\n",
    "my_list = K_means_js\n",
    "my_json_string = json.dumps(my_list)\n",
    "my_json_string"
   ]
  },
  {
   "cell_type": "code",
   "execution_count": 13,
   "metadata": {},
   "outputs": [
    {
     "data": {
      "text/plain": [
       "str"
      ]
     },
     "execution_count": 13,
     "metadata": {},
     "output_type": "execute_result"
    }
   ],
   "source": [
    "type(my_json_string)"
   ]
  },
  {
   "cell_type": "code",
   "execution_count": null,
   "metadata": {},
   "outputs": [],
   "source": [
    "df = pd.datafram()"
   ]
  },
  {
   "cell_type": "code",
   "execution_count": 22,
   "metadata": {},
   "outputs": [],
   "source": [
    "d = {'Name': img_name, 'Cluster': my_list}\n",
    "df = pd.DataFrame(data=d)"
   ]
  },
  {
   "cell_type": "code",
   "execution_count": 23,
   "metadata": {},
   "outputs": [],
   "source": [
    "df.to_csv('cluster.csv', index = False)\n"
   ]
  },
  {
   "cell_type": "code",
   "execution_count": null,
   "metadata": {},
   "outputs": [],
   "source": []
  }
 ],
 "metadata": {
  "kernelspec": {
   "display_name": "Python 3",
   "language": "python",
   "name": "python3"
  }
 },
 "nbformat": 4,
 "nbformat_minor": 2
}
