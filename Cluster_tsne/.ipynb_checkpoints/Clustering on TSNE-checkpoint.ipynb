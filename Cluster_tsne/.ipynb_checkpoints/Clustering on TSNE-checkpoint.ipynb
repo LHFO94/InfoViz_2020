{
 "cells": [
  {
   "cell_type": "code",
   "execution_count": 1,
   "metadata": {},
   "outputs": [
    {
     "ename": "ModuleNotFoundError",
     "evalue": "No module named 'hdbscan'",
     "output_type": "error",
     "traceback": [
      "\u001b[1;31m---------------------------------------------------------------------------\u001b[0m",
      "\u001b[1;31mModuleNotFoundError\u001b[0m                       Traceback (most recent call last)",
      "\u001b[1;32m<ipython-input-1-89211e3f3974>\u001b[0m in \u001b[0;36m<module>\u001b[1;34m\u001b[0m\n\u001b[0;32m      1\u001b[0m \u001b[1;32mfrom\u001b[0m \u001b[0msklearn\u001b[0m\u001b[1;33m.\u001b[0m\u001b[0mcluster\u001b[0m \u001b[1;32mimport\u001b[0m \u001b[0mKMeans\u001b[0m\u001b[1;33m\u001b[0m\u001b[1;33m\u001b[0m\u001b[0m\n\u001b[0;32m      2\u001b[0m \u001b[1;32mimport\u001b[0m \u001b[0mpandas\u001b[0m \u001b[1;32mas\u001b[0m \u001b[0mpd\u001b[0m\u001b[1;33m\u001b[0m\u001b[1;33m\u001b[0m\u001b[0m\n\u001b[1;32m----> 3\u001b[1;33m \u001b[1;32mimport\u001b[0m \u001b[0mhdbscan\u001b[0m\u001b[1;33m\u001b[0m\u001b[1;33m\u001b[0m\u001b[0m\n\u001b[0m\u001b[0;32m      4\u001b[0m \u001b[1;32mimport\u001b[0m \u001b[0mjson\u001b[0m\u001b[1;33m\u001b[0m\u001b[1;33m\u001b[0m\u001b[0m\n",
      "\u001b[1;31mModuleNotFoundError\u001b[0m: No module named 'hdbscan'"
     ]
    }
   ],
   "source": [
    "from sklearn.cluster import KMeans\n",
    "import pandas as pd\n",
    "import hdbscan\n",
    "import json"
   ]
  },
  {
   "cell_type": "code",
   "execution_count": null,
   "metadata": {},
   "outputs": [],
   "source": []
  },
  {
   "cell_type": "code",
   "execution_count": null,
   "metadata": {},
   "outputs": [],
   "source": [
    "tsne_result=pd.read_csv('results_TSNE_2d.csv')\n",
    "tsne_2d=tsne_result.drop(['img','Unnamed: 0'], axis=1)\n",
    "plotly_text=tsne_result['img']\n"
   ]
  },
  {
   "cell_type": "code",
   "execution_count": null,
   "metadata": {},
   "outputs": [],
   "source": [
    "\n",
    "listx=[]\n",
    "for i in tsne_2d['x']:\n",
    "    listx.append(i)\n",
    " \n",
    "listy=[]\n",
    "for i in tsne_2d['y']:\n",
    "    listy.append(i)\n",
    "    \n",
    "img_name =[]\n",
    "for i in plotly_text:\n",
    "    img_name.append(i)\n",
    "img_name"
   ]
  },
  {
   "cell_type": "code",
   "execution_count": null,
   "metadata": {},
   "outputs": [],
   "source": [
    "#hdbscan with no pre-specified no. of clusters\n",
    "def hdbscan_cluster (dataframe):\n",
    "    clusterer = hdbscan.HDBSCAN()\n",
    "    clusterer.fit(dataframe)\n",
    "    return clusterer.labels_\n",
    "\n",
    "hdbscan_cluster(tsne_2d)"
   ]
  },
  {
   "cell_type": "code",
   "execution_count": null,
   "metadata": {},
   "outputs": [],
   "source": [
    "#Kmeans on TSNE RESULTS\n",
    "def k_means(df, n_cluster):\n",
    "    km_df=df.to_numpy()\n",
    "    Kmeans_result=KMeans(n_clusters=n_cluster, random_state = 0).fit(km_df)\n",
    "    return Kmeans_result.labels_\n",
    "k_means(tsne_2d, 6)"
   ]
  },
  {
   "cell_type": "code",
   "execution_count": null,
   "metadata": {},
   "outputs": [],
   "source": [
    "#Convert to Json string\n",
    "K_means_js=k_means(tsne_2d, 6).tolist()\n",
    "my_json_string = json.dumps(K_means_js)\n",
    "my_json_string"
   ]
  },
  {
   "cell_type": "code",
   "execution_count": null,
   "metadata": {},
   "outputs": [],
   "source": [
    "import json\n",
    "\n",
    "# graph = {\n",
    "#     'nodes': [ {'id': 'Class1'}, {'id': 'Class2'} ],\n",
    "#     'links': [\n",
    "#         { 'id': 1, 'source': 'Class1', 'target': 'prereq' },\n",
    "#         { 'id': 2, 'source': 'Class2', 'target': 'prereq' }\n",
    "#     ]\n",
    "# }\n",
    "\n",
    "with open('K_means_cluster.js', 'w') as out_file:\n",
    "  out_file.write('var K_means_cluster_value = %s;' % json.dumps(K_means_js))"
   ]
  },
  {
   "cell_type": "code",
   "execution_count": null,
   "metadata": {},
   "outputs": [],
   "source": [
    "import json\n",
    "my_list = K_means_js\n",
    "my_json_string = json.dumps(my_list)\n",
    "my_json_string"
   ]
  },
  {
   "cell_type": "code",
   "execution_count": null,
   "metadata": {},
   "outputs": [],
   "source": []
  }
 ],
 "metadata": {
  "kernelspec": {
   "display_name": "Python 3",
   "language": "python",
   "name": "python3"
  }
 },
 "nbformat": 4,
 "nbformat_minor": 2
}
